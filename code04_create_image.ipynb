{
 "cells": [
  {
   "cell_type": "code",
   "execution_count": 2,
   "metadata": {},
   "outputs": [],
   "source": [
    "import cv2\n",
    "import numpy as np\n",
    "import matplotlib.pyplot as plt"
   ]
  },
  {
   "cell_type": "code",
   "execution_count": 7,
   "metadata": {},
   "outputs": [],
   "source": [
    "def printcboard(n):\n",
    "  \n",
    "    # create a n * n matrix\n",
    "    x = np.zeros((n, n), dtype = int)\n",
    "  \n",
    "    # fill with 1 the alternate rows and columns\n",
    "    x[1::2, ::2] = 255\n",
    "    x[::2, 1::2] = 255\n",
    "      \n",
    "    return x"
   ]
  },
  {
   "cell_type": "code",
   "execution_count": 8,
   "metadata": {},
   "outputs": [
    {
     "data": {
      "text/plain": [
       "array([1, 4])"
      ]
     },
     "execution_count": 8,
     "metadata": {},
     "output_type": "execute_result"
    }
   ],
   "source": [
    "a = np.asarray([1,2,3,4,5,6,7,8,])\n",
    "a[0:5:2]"
   ]
  },
  {
   "cell_type": "code",
   "execution_count": 9,
   "metadata": {},
   "outputs": [],
   "source": [
    "img=printcboard(100)"
   ]
  },
  {
   "cell_type": "code",
   "execution_count": 10,
   "metadata": {},
   "outputs": [
    {
     "data": {
      "text/plain": [
       "Text(0.5, 1.0, 'CBoard')"
      ]
     },
     "execution_count": 10,
     "metadata": {},
     "output_type": "execute_result"
    },
    {
     "data": {
      "image/png": "[encoded data removed]",
      "text/plain": [
       "<Figure size 432x288 with 1 Axes>"
      ]
     },
     "metadata": {
      "needs_background": "light"
     },
     "output_type": "display_data"
    }
   ],
   "source": [
    "plt.imshow(img, cmap = plt.cm.gray)\n",
    "plt.title('CBoard')"
   ]
  },
  {
   "cell_type": "code",
   "execution_count": 5,
   "metadata": {},
   "outputs": [
    {
     "data": {
      "text/plain": [
       "True"
      ]
     },
     "execution_count": 5,
     "metadata": {},
     "output_type": "execute_result"
    }
   ],
   "source": [
    "cv2.imwrite(\"createcboard.png\", img)"
   ]
  },
  {
   "cell_type": "code",
   "execution_count": 11,
   "metadata": {},
   "outputs": [
    {
     "data": {
      "text/plain": [
       "array([[  0, 255,   0, 255,   0, 255,   0, 255,   0, 255],\n",
       "       [255,   0, 255,   0, 255,   0, 255,   0, 255,   0],\n",
       "       [  0, 255,   0, 255,   0, 255,   0, 255,   0, 255],\n",
       "       [255,   0, 255,   0, 255,   0, 255,   0, 255,   0],\n",
       "       [  0, 255,   0, 255,   0, 255,   0, 255,   0, 255],\n",
       "       [255,   0, 255,   0, 255,   0, 255,   0, 255,   0],\n",
       "       [  0, 255,   0, 255,   0, 255,   0, 255,   0, 255],\n",
       "       [255,   0, 255,   0, 255,   0, 255,   0, 255,   0],\n",
       "       [  0, 255,   0, 255,   0, 255,   0, 255,   0, 255],\n",
       "       [255,   0, 255,   0, 255,   0, 255,   0, 255,   0]])"
      ]
     },
     "execution_count": 11,
     "metadata": {},
     "output_type": "execute_result"
    }
   ],
   "source": [
    "img[0:10, 0:10]"
   ]
  },
  {
   "cell_type": "code",
   "execution_count": null,
   "metadata": {},
   "outputs": [],
   "source": []
  }
 ],
 "metadata": {
  "kernelspec": {
   "display_name": "Python 3",
   "language": "python",
   "name": "python3"
  },
  "language_info": {
   "codemirror_mode": {
    "name": "ipython",
    "version": 3
   },
   "file_extension": ".py",
   "mimetype": "text/x-python",
   "name": "python",
   "nbconvert_exporter": "python",
   "pygments_lexer": "ipython3",
   "version": "3.7.9"
  }
 },
 "nbformat": 4,
 "nbformat_minor": 5
}
